{
  "cells": [
    {
      "cell_type": "markdown",
      "metadata": {
        "_uuid": "25c8d67b312aedaf18d321eaa197b162c4b1fe28",
        "id": "UZjpLTCy_32A"
      },
      "source": [
        "<a id=\"content1\"></a>\n",
        "## 1) Importing the Modules and Loading the Dataset"
      ]
    },
    {
      "cell_type": "code",
      "execution_count": 482,
      "metadata": {
        "_uuid": "fe306398c6247419de28f6b8da43eb4e9adabd45",
        "id": "1JI18AXTlKff"
      },
      "outputs": [],
      "source": [
        "import numpy as np\n",
        "import pandas as pd\n",
        "import matplotlib.pyplot as plt\n",
        "from matplotlib import style\n",
        "from matplotlib.legend_handler import HandlerBase\n",
        "import seaborn as sns\n",
        "\n",
        "%matplotlib inline  \n",
        "style.use('fivethirtyeight')\n",
        "sns.set(style='whitegrid',color_codes=True)\n",
        "\n",
        "from sklearn.ensemble import GradientBoostingRegressor\n",
        "import xgboost as xgb\n",
        "\n",
        "#model selection\n",
        "from sklearn.model_selection import train_test_split,cross_validate\n",
        "from sklearn.preprocessing import LabelEncoder\n",
        "\n",
        "#evaluation metrics\n",
        "from sklearn.metrics import mean_squared_error\n",
        "\n",
        "from scipy import stats\n",
        "from scipy.stats import norm, skew   # specifically for staistics"
      ]
    },
    {
      "cell_type": "code",
      "execution_count": 483,
      "metadata": {
        "_uuid": "2889a16c07b2f71ea611b3f4fdcd52d372eb05f4",
        "id": "3N2G1LMylKfq"
      },
      "outputs": [],
      "source": [
        "train=pd.read_csv('train.csv')\n",
        "test=pd.read_csv('test.csv')"
      ]
    },
    {
      "cell_type": "markdown",
      "metadata": {
        "_uuid": "516a4a16739f97c372516fd7f6f5565bf182dea8",
        "id": "RaaX6Qfv_32F"
      },
      "source": [
        "<a id=\"content2\"></a>\n",
        "## 2) Exploratory Data Analysis (EDA)"
      ]
    },
    {
      "cell_type": "markdown",
      "metadata": {
        "_uuid": "2442455ae44bd2e13cbb205227fb8539b674b124",
        "id": "Kame9kU7_32F"
      },
      "source": [
        "## 2.1 ) The Features and the 'Target' variable"
      ]
    },
    {
      "cell_type": "code",
      "execution_count": 484,
      "metadata": {
        "_uuid": "d6c11eae1643c0a6fbeb01925fdad233d88e1cd9",
        "id": "lpQgItEJlKgE",
        "outputId": "f103607d-1a73-4a36-845f-20bba95ce99b",
        "colab": {
          "base_uri": "https://localhost:8080/"
        }
      },
      "outputs": [
        {
          "output_type": "execute_result",
          "data": {
            "text/plain": [
              "(1460, 81)"
            ]
          },
          "metadata": {},
          "execution_count": 484
        }
      ],
      "source": [
        "df=train.copy()\n",
        "df.shape"
      ]
    },
    {
      "cell_type": "code",
      "execution_count": 485,
      "metadata": {
        "_uuid": "27935512dd78ebc5dbe37a484393b2a496f638d9",
        "id": "N5re2y4tlKgQ"
      },
      "outputs": [],
      "source": [
        "df.drop(['Id'],axis=1,inplace=True)\n",
        "test.drop(['Id'],axis=1,inplace=True)"
      ]
    },
    {
      "cell_type": "markdown",
      "metadata": {
        "_uuid": "e7094ccff8532c0492f9f6036e24d9c0457b6119",
        "id": "dgPJgLhF_32H"
      },
      "source": [
        "## 2.2 ) Check for Missing Values"
      ]
    },
    {
      "cell_type": "code",
      "execution_count": 486,
      "metadata": {
        "_uuid": "1c01ec5fe018c4948b14cfb68fedc83654836a2e",
        "id": "xf18XSaulKg-",
        "outputId": "c4196f2e-173c-4c58-f5d4-dffad7f21e6c",
        "colab": {
          "base_uri": "https://localhost:8080/"
        }
      },
      "outputs": [
        {
          "output_type": "stream",
          "name": "stdout",
          "text": [
            "LotFrontage 259\n",
            "Alley 1369\n",
            "MasVnrType 8\n",
            "MasVnrArea 8\n",
            "BsmtQual 37\n",
            "BsmtCond 37\n",
            "BsmtExposure 38\n",
            "BsmtFinType1 37\n",
            "BsmtFinType2 38\n",
            "Electrical 1\n",
            "FireplaceQu 690\n",
            "GarageType 81\n",
            "GarageYrBlt 81\n",
            "GarageFinish 81\n",
            "GarageQual 81\n",
            "GarageCond 81\n",
            "PoolQC 1453\n",
            "Fence 1179\n",
            "MiscFeature 1406\n"
          ]
        }
      ],
      "source": [
        "for i in df.columns:\n",
        " if(df[i].isnull().sum() > 0):\n",
        "   print(i, df[i].isnull().sum())"
      ]
    },
    {
      "cell_type": "markdown",
      "metadata": {
        "_uuid": "ddfe2acb6f213944220033fc43a42b72ddb1ffa1",
        "id": "sNgWhk66_32J"
      },
      "source": [
        "## 2.3 ) Separate Dataframes (depending on data type)"
      ]
    },
    {
      "cell_type": "markdown",
      "metadata": {
        "_uuid": "5cfd9b025cdeda28ad41d344d51d74dbf517785c",
        "id": "UOYrC5sB_32K"
      },
      "source": [
        "#### CATEGORICAL FEATURES"
      ]
    },
    {
      "cell_type": "code",
      "execution_count": 487,
      "metadata": {
        "_uuid": "769aacc692db88e7a756815eca1fa1da034ddab4",
        "id": "d5Li8tK1pxGw"
      },
      "outputs": [],
      "source": [
        "cat_df=df.select_dtypes(include='object')"
      ]
    },
    {
      "cell_type": "code",
      "execution_count": 488,
      "metadata": {
        "_uuid": "d821136907f4eefe5ec23e0cb4f338de08d31be0",
        "id": "yoJ-mKriyQ1t",
        "outputId": "f5321e85-b310-4199-9b65-0c75c595b33f",
        "colab": {
          "base_uri": "https://localhost:8080/"
        }
      },
      "outputs": [
        {
          "output_type": "execute_result",
          "data": {
            "text/plain": [
              "(1460, 43)"
            ]
          },
          "metadata": {},
          "execution_count": 488
        }
      ],
      "source": [
        "cat_df.shape"
      ]
    },
    {
      "cell_type": "markdown",
      "metadata": {
        "_uuid": "61a1cc1d294a89bdb38b3de66f4a480987712073",
        "id": "F11mbW_t_32L"
      },
      "source": [
        "#### NUMERIC FEATURES"
      ]
    },
    {
      "cell_type": "code",
      "execution_count": 489,
      "metadata": {
        "_uuid": "c9207d3b2f1a0f7d301f6eeefd1647628b741d86",
        "id": "zjIhIHmNySOJ",
        "outputId": "79c50198-ac10-49d1-efa7-e71374d9a9dc",
        "colab": {
          "base_uri": "https://localhost:8080/"
        }
      },
      "outputs": [
        {
          "output_type": "execute_result",
          "data": {
            "text/plain": [
              "(1460, 37)"
            ]
          },
          "metadata": {},
          "execution_count": 489
        }
      ],
      "source": [
        "num_df=df.select_dtypes(include='number')\n",
        "num_df.shape"
      ]
    },
    {
      "cell_type": "markdown",
      "metadata": {
        "_uuid": "8a4e196a5b539b145b4b36387468c63b64c479e5",
        "id": "IX4UKnf1_32N"
      },
      "source": [
        "#### MERGING THE TRAIN & TEST SETS"
      ]
    },
    {
      "cell_type": "code",
      "execution_count": 490,
      "metadata": {
        "_uuid": "74ff3fb2a712910b84b0c266ec5beb2a5d785bc2",
        "id": "T4HlzGhB2Uvc"
      },
      "outputs": [],
      "source": [
        "dat=pd.concat([train,test])"
      ]
    },
    {
      "cell_type": "code",
      "execution_count": 491,
      "metadata": {
        "_uuid": "bc1bad854cf9c060ebdb6301a7927cb3e1587001",
        "id": "QgqobkHUMTfw",
        "outputId": "7b1c1913-be0f-4b30-f2f6-4c537e525d28",
        "colab": {
          "base_uri": "https://localhost:8080/"
        }
      },
      "outputs": [
        {
          "output_type": "stream",
          "name": "stdout",
          "text": [
            "(2919, 81)\n"
          ]
        }
      ],
      "source": [
        "print(dat.shape)\n",
        "dat = dat.reset_index(drop=True)"
      ]
    },
    {
      "cell_type": "code",
      "execution_count": 492,
      "metadata": {
        "_uuid": "10f12ddd2758d9679e60e9b8063f02b2bf09cb1b",
        "id": "k7MKA1BYOVgV",
        "outputId": "7ca5ae55-292c-4271-e116-2f48b5bb37c3",
        "colab": {
          "base_uri": "https://localhost:8080/",
          "height": 300
        }
      },
      "outputs": [
        {
          "output_type": "execute_result",
          "data": {
            "text/plain": [
              "    Id  MSSubClass MSZoning  LotFrontage  LotArea Street Alley LotShape  \\\n",
              "0  1.0          60       RL         65.0     8450   Pave   NaN      Reg   \n",
              "1  2.0          20       RL         80.0     9600   Pave   NaN      Reg   \n",
              "2  3.0          60       RL         68.0    11250   Pave   NaN      IR1   \n",
              "3  4.0          70       RL         60.0     9550   Pave   NaN      IR1   \n",
              "4  5.0          60       RL         84.0    14260   Pave   NaN      IR1   \n",
              "\n",
              "  LandContour Utilities  ... PoolArea PoolQC Fence MiscFeature MiscVal MoSold  \\\n",
              "0         Lvl    AllPub  ...        0    NaN   NaN         NaN       0      2   \n",
              "1         Lvl    AllPub  ...        0    NaN   NaN         NaN       0      5   \n",
              "2         Lvl    AllPub  ...        0    NaN   NaN         NaN       0      9   \n",
              "3         Lvl    AllPub  ...        0    NaN   NaN         NaN       0      2   \n",
              "4         Lvl    AllPub  ...        0    NaN   NaN         NaN       0     12   \n",
              "\n",
              "  YrSold  SaleType  SaleCondition  SalePrice  \n",
              "0   2008        WD         Normal   208500.0  \n",
              "1   2007        WD         Normal   181500.0  \n",
              "2   2008        WD         Normal   223500.0  \n",
              "3   2006        WD        Abnorml   140000.0  \n",
              "4   2008        WD         Normal   250000.0  \n",
              "\n",
              "[5 rows x 81 columns]"
            ],
            "text/html": [
              "\n",
              "  <div id=\"df-f2e173b5-d27c-4b5b-9da6-99b726703615\">\n",
              "    <div class=\"colab-df-container\">\n",
              "      <div>\n",
              "<style scoped>\n",
              "    .dataframe tbody tr th:only-of-type {\n",
              "        vertical-align: middle;\n",
              "    }\n",
              "\n",
              "    .dataframe tbody tr th {\n",
              "        vertical-align: top;\n",
              "    }\n",
              "\n",
              "    .dataframe thead th {\n",
              "        text-align: right;\n",
              "    }\n",
              "</style>\n",
              "<table border=\"1\" class=\"dataframe\">\n",
              "  <thead>\n",
              "    <tr style=\"text-align: right;\">\n",
              "      <th></th>\n",
              "      <th>Id</th>\n",
              "      <th>MSSubClass</th>\n",
              "      <th>MSZoning</th>\n",
              "      <th>LotFrontage</th>\n",
              "      <th>LotArea</th>\n",
              "      <th>Street</th>\n",
              "      <th>Alley</th>\n",
              "      <th>LotShape</th>\n",
              "      <th>LandContour</th>\n",
              "      <th>Utilities</th>\n",
              "      <th>...</th>\n",
              "      <th>PoolArea</th>\n",
              "      <th>PoolQC</th>\n",
              "      <th>Fence</th>\n",
              "      <th>MiscFeature</th>\n",
              "      <th>MiscVal</th>\n",
              "      <th>MoSold</th>\n",
              "      <th>YrSold</th>\n",
              "      <th>SaleType</th>\n",
              "      <th>SaleCondition</th>\n",
              "      <th>SalePrice</th>\n",
              "    </tr>\n",
              "  </thead>\n",
              "  <tbody>\n",
              "    <tr>\n",
              "      <th>0</th>\n",
              "      <td>1.0</td>\n",
              "      <td>60</td>\n",
              "      <td>RL</td>\n",
              "      <td>65.0</td>\n",
              "      <td>8450</td>\n",
              "      <td>Pave</td>\n",
              "      <td>NaN</td>\n",
              "      <td>Reg</td>\n",
              "      <td>Lvl</td>\n",
              "      <td>AllPub</td>\n",
              "      <td>...</td>\n",
              "      <td>0</td>\n",
              "      <td>NaN</td>\n",
              "      <td>NaN</td>\n",
              "      <td>NaN</td>\n",
              "      <td>0</td>\n",
              "      <td>2</td>\n",
              "      <td>2008</td>\n",
              "      <td>WD</td>\n",
              "      <td>Normal</td>\n",
              "      <td>208500.0</td>\n",
              "    </tr>\n",
              "    <tr>\n",
              "      <th>1</th>\n",
              "      <td>2.0</td>\n",
              "      <td>20</td>\n",
              "      <td>RL</td>\n",
              "      <td>80.0</td>\n",
              "      <td>9600</td>\n",
              "      <td>Pave</td>\n",
              "      <td>NaN</td>\n",
              "      <td>Reg</td>\n",
              "      <td>Lvl</td>\n",
              "      <td>AllPub</td>\n",
              "      <td>...</td>\n",
              "      <td>0</td>\n",
              "      <td>NaN</td>\n",
              "      <td>NaN</td>\n",
              "      <td>NaN</td>\n",
              "      <td>0</td>\n",
              "      <td>5</td>\n",
              "      <td>2007</td>\n",
              "      <td>WD</td>\n",
              "      <td>Normal</td>\n",
              "      <td>181500.0</td>\n",
              "    </tr>\n",
              "    <tr>\n",
              "      <th>2</th>\n",
              "      <td>3.0</td>\n",
              "      <td>60</td>\n",
              "      <td>RL</td>\n",
              "      <td>68.0</td>\n",
              "      <td>11250</td>\n",
              "      <td>Pave</td>\n",
              "      <td>NaN</td>\n",
              "      <td>IR1</td>\n",
              "      <td>Lvl</td>\n",
              "      <td>AllPub</td>\n",
              "      <td>...</td>\n",
              "      <td>0</td>\n",
              "      <td>NaN</td>\n",
              "      <td>NaN</td>\n",
              "      <td>NaN</td>\n",
              "      <td>0</td>\n",
              "      <td>9</td>\n",
              "      <td>2008</td>\n",
              "      <td>WD</td>\n",
              "      <td>Normal</td>\n",
              "      <td>223500.0</td>\n",
              "    </tr>\n",
              "    <tr>\n",
              "      <th>3</th>\n",
              "      <td>4.0</td>\n",
              "      <td>70</td>\n",
              "      <td>RL</td>\n",
              "      <td>60.0</td>\n",
              "      <td>9550</td>\n",
              "      <td>Pave</td>\n",
              "      <td>NaN</td>\n",
              "      <td>IR1</td>\n",
              "      <td>Lvl</td>\n",
              "      <td>AllPub</td>\n",
              "      <td>...</td>\n",
              "      <td>0</td>\n",
              "      <td>NaN</td>\n",
              "      <td>NaN</td>\n",
              "      <td>NaN</td>\n",
              "      <td>0</td>\n",
              "      <td>2</td>\n",
              "      <td>2006</td>\n",
              "      <td>WD</td>\n",
              "      <td>Abnorml</td>\n",
              "      <td>140000.0</td>\n",
              "    </tr>\n",
              "    <tr>\n",
              "      <th>4</th>\n",
              "      <td>5.0</td>\n",
              "      <td>60</td>\n",
              "      <td>RL</td>\n",
              "      <td>84.0</td>\n",
              "      <td>14260</td>\n",
              "      <td>Pave</td>\n",
              "      <td>NaN</td>\n",
              "      <td>IR1</td>\n",
              "      <td>Lvl</td>\n",
              "      <td>AllPub</td>\n",
              "      <td>...</td>\n",
              "      <td>0</td>\n",
              "      <td>NaN</td>\n",
              "      <td>NaN</td>\n",
              "      <td>NaN</td>\n",
              "      <td>0</td>\n",
              "      <td>12</td>\n",
              "      <td>2008</td>\n",
              "      <td>WD</td>\n",
              "      <td>Normal</td>\n",
              "      <td>250000.0</td>\n",
              "    </tr>\n",
              "  </tbody>\n",
              "</table>\n",
              "<p>5 rows × 81 columns</p>\n",
              "</div>\n",
              "      <button class=\"colab-df-convert\" onclick=\"convertToInteractive('df-f2e173b5-d27c-4b5b-9da6-99b726703615')\"\n",
              "              title=\"Convert this dataframe to an interactive table.\"\n",
              "              style=\"display:none;\">\n",
              "        \n",
              "  <svg xmlns=\"http://www.w3.org/2000/svg\" height=\"24px\"viewBox=\"0 0 24 24\"\n",
              "       width=\"24px\">\n",
              "    <path d=\"M0 0h24v24H0V0z\" fill=\"none\"/>\n",
              "    <path d=\"M18.56 5.44l.94 2.06.94-2.06 2.06-.94-2.06-.94-.94-2.06-.94 2.06-2.06.94zm-11 1L8.5 8.5l.94-2.06 2.06-.94-2.06-.94L8.5 2.5l-.94 2.06-2.06.94zm10 10l.94 2.06.94-2.06 2.06-.94-2.06-.94-.94-2.06-.94 2.06-2.06.94z\"/><path d=\"M17.41 7.96l-1.37-1.37c-.4-.4-.92-.59-1.43-.59-.52 0-1.04.2-1.43.59L10.3 9.45l-7.72 7.72c-.78.78-.78 2.05 0 2.83L4 21.41c.39.39.9.59 1.41.59.51 0 1.02-.2 1.41-.59l7.78-7.78 2.81-2.81c.8-.78.8-2.07 0-2.86zM5.41 20L4 18.59l7.72-7.72 1.47 1.35L5.41 20z\"/>\n",
              "  </svg>\n",
              "      </button>\n",
              "      \n",
              "  <style>\n",
              "    .colab-df-container {\n",
              "      display:flex;\n",
              "      flex-wrap:wrap;\n",
              "      gap: 12px;\n",
              "    }\n",
              "\n",
              "    .colab-df-convert {\n",
              "      background-color: #E8F0FE;\n",
              "      border: none;\n",
              "      border-radius: 50%;\n",
              "      cursor: pointer;\n",
              "      display: none;\n",
              "      fill: #1967D2;\n",
              "      height: 32px;\n",
              "      padding: 0 0 0 0;\n",
              "      width: 32px;\n",
              "    }\n",
              "\n",
              "    .colab-df-convert:hover {\n",
              "      background-color: #E2EBFA;\n",
              "      box-shadow: 0px 1px 2px rgba(60, 64, 67, 0.3), 0px 1px 3px 1px rgba(60, 64, 67, 0.15);\n",
              "      fill: #174EA6;\n",
              "    }\n",
              "\n",
              "    [theme=dark] .colab-df-convert {\n",
              "      background-color: #3B4455;\n",
              "      fill: #D2E3FC;\n",
              "    }\n",
              "\n",
              "    [theme=dark] .colab-df-convert:hover {\n",
              "      background-color: #434B5C;\n",
              "      box-shadow: 0px 1px 3px 1px rgba(0, 0, 0, 0.15);\n",
              "      filter: drop-shadow(0px 1px 2px rgba(0, 0, 0, 0.3));\n",
              "      fill: #FFFFFF;\n",
              "    }\n",
              "  </style>\n",
              "\n",
              "      <script>\n",
              "        const buttonEl =\n",
              "          document.querySelector('#df-f2e173b5-d27c-4b5b-9da6-99b726703615 button.colab-df-convert');\n",
              "        buttonEl.style.display =\n",
              "          google.colab.kernel.accessAllowed ? 'block' : 'none';\n",
              "\n",
              "        async function convertToInteractive(key) {\n",
              "          const element = document.querySelector('#df-f2e173b5-d27c-4b5b-9da6-99b726703615');\n",
              "          const dataTable =\n",
              "            await google.colab.kernel.invokeFunction('convertToInteractive',\n",
              "                                                     [key], {});\n",
              "          if (!dataTable) return;\n",
              "\n",
              "          const docLinkHtml = 'Like what you see? Visit the ' +\n",
              "            '<a target=\"_blank\" href=https://colab.research.google.com/notebooks/data_table.ipynb>data table notebook</a>'\n",
              "            + ' to learn more about interactive tables.';\n",
              "          element.innerHTML = '';\n",
              "          dataTable['output_type'] = 'display_data';\n",
              "          await google.colab.output.renderOutput(dataTable, element);\n",
              "          const docLink = document.createElement('div');\n",
              "          docLink.innerHTML = docLinkHtml;\n",
              "          element.appendChild(docLink);\n",
              "        }\n",
              "      </script>\n",
              "    </div>\n",
              "  </div>\n",
              "  "
            ]
          },
          "metadata": {},
          "execution_count": 492
        }
      ],
      "source": [
        "dat.head()"
      ]
    },
    {
      "cell_type": "code",
      "execution_count": 493,
      "metadata": {
        "_uuid": "93158fabaab046f39582d156d7d2374e1958f271",
        "id": "sxO9eOMzPrn_"
      },
      "outputs": [],
      "source": [
        "dat.drop(['SalePrice'],axis=1,inplace=True)"
      ]
    },
    {
      "cell_type": "markdown",
      "metadata": {
        "_uuid": "401e566786a9250050c2f36e1d663b1362ad5fb0",
        "id": "1H56qWlDQbOV"
      },
      "source": [
        "## 2.4 ) Analyzing the Target i.e. 'SalePrice'"
      ]
    },
    {
      "cell_type": "code",
      "execution_count": 494,
      "metadata": {
        "_uuid": "bd4ea76e34fe7dd6668b8c93e610f2fa0e6f426b",
        "id": "eX-37QQpQeCZ",
        "outputId": "f37c0d00-b9f5-42c7-a852-7d96c63dfac6",
        "colab": {
          "base_uri": "https://localhost:8080/",
          "height": 372
        }
      },
      "outputs": [
        {
          "output_type": "stream",
          "name": "stderr",
          "text": [
            "/usr/local/lib/python3.7/dist-packages/seaborn/distributions.py:2619: FutureWarning: `distplot` is a deprecated function and will be removed in a future version. Please adapt your code to use either `displot` (a figure-level function with similar flexibility) or `histplot` (an axes-level function for histograms).\n",
            "  warnings.warn(msg, FutureWarning)\n"
          ]
        },
        {
          "output_type": "execute_result",
          "data": {
            "text/plain": [
              "Text(0.5, 1.0, 'SalePrice')"
            ]
          },
          "metadata": {},
          "execution_count": 494
        },
        {
          "output_type": "display_data",
          "data": {
            "text/plain": [
              "<Figure size 432x288 with 1 Axes>"
            ],
            "image/png": "[encoded data removed]"
          },
          "metadata": {}
        }
      ],
      "source": [
        "sns.distplot(a=df['SalePrice'],color='#ff4125',axlabel=False).set_title('SalePrice')"
      ]
    },
    {
      "cell_type": "markdown",
      "metadata": {
        "_uuid": "f2399d492e0f97c0cfe48e300958f473855793cb",
        "id": "2xq__j9w_32O"
      },
      "source": [
        "#### **The distribution of target is right skewed. Hence taking log transform.**"
      ]
    },
    {
      "cell_type": "markdown",
      "metadata": {
        "_uuid": "6c5a76522390df690194508b89d956c2413a4b11",
        "id": "tMckaZJo_32P"
      },
      "source": [
        "####  TAKING 'Log Transform' OF THE TARGET"
      ]
    },
    {
      "cell_type": "code",
      "execution_count": 495,
      "metadata": {
        "_uuid": "34dfd5216c1208204c504d96356e91b6b1eca0b9",
        "id": "9AlxRrRSUf54"
      },
      "outputs": [],
      "source": [
        "df['SalePrice']=np.log1p(df['SalePrice']) "
      ]
    },
    {
      "cell_type": "code",
      "execution_count": 496,
      "metadata": {
        "_uuid": "f9db78388901e75b0e688fd2fa331a13b44135d6",
        "id": "kclqwnBcVK91",
        "outputId": "3aebca07-6991-4e26-a97c-c6bb6a5218e2",
        "colab": {
          "base_uri": "https://localhost:8080/",
          "height": 372
        }
      },
      "outputs": [
        {
          "output_type": "stream",
          "name": "stderr",
          "text": [
            "/usr/local/lib/python3.7/dist-packages/seaborn/distributions.py:2619: FutureWarning: `distplot` is a deprecated function and will be removed in a future version. Please adapt your code to use either `displot` (a figure-level function with similar flexibility) or `histplot` (an axes-level function for histograms).\n",
            "  warnings.warn(msg, FutureWarning)\n"
          ]
        },
        {
          "output_type": "execute_result",
          "data": {
            "text/plain": [
              "Text(0.5, 1.0, 'log(1+SalePrice)')"
            ]
          },
          "metadata": {},
          "execution_count": 496
        },
        {
          "output_type": "display_data",
          "data": {
            "text/plain": [
              "<Figure size 432x288 with 1 Axes>"
            ],
            "image/png": "[encoded data removed]"
          },
          "metadata": {}
        }
      ],
      "source": [
        "sns.distplot(a=df['SalePrice'],color='#ff4125',axlabel=False).set_title('log(1+SalePrice)')  # better."
      ]
    },
    {
      "cell_type": "markdown",
      "metadata": {
        "_uuid": "23acf3a9794d4efe96dc777a32fc43410d00266d",
        "id": "3IobanMCVdjr"
      },
      "source": [
        "## 2.5 ) Most Related Features to the Target"
      ]
    },
    {
      "cell_type": "code",
      "execution_count": 497,
      "metadata": {
        "_uuid": "a768637b63c8ea05929584393235ddcbd546f4f5",
        "id": "_Lk4xeTwYb55"
      },
      "outputs": [],
      "source": [
        "cor= df[:].corr()\n",
        "cor=cor.sort_values(['SalePrice'],ascending=False)"
      ]
    },
    {
      "cell_type": "code",
      "execution_count": 498,
      "metadata": {
        "_uuid": "9f5f7a6893c869a5f2df206c8e5362e8a72d9d96",
        "id": "NBFtyDPFY7w2",
        "outputId": "f952d37c-09b0-4566-b52f-ff05556a358c",
        "colab": {
          "base_uri": "https://localhost:8080/"
        }
      },
      "outputs": [
        {
          "output_type": "execute_result",
          "data": {
            "text/plain": [
              "SalePrice        1.000000\n",
              "OverallQual      0.817185\n",
              "GrLivArea        0.700927\n",
              "GarageCars       0.680625\n",
              "GarageArea       0.650888\n",
              "TotalBsmtSF      0.612134\n",
              "1stFlrSF         0.596981\n",
              "FullBath         0.594771\n",
              "YearBuilt        0.586570\n",
              "YearRemodAdd     0.565608\n",
              "GarageYrBlt      0.541073\n",
              "TotRmsAbvGrd     0.534422\n",
              "Fireplaces       0.489450\n",
              "MasVnrArea       0.430809\n",
              "BsmtFinSF1       0.372023\n",
              "LotFrontage      0.355879\n",
              "WoodDeckSF       0.334135\n",
              "OpenPorchSF      0.321053\n",
              "2ndFlrSF         0.319300\n",
              "HalfBath         0.313982\n",
              "LotArea          0.257320\n",
              "BsmtFullBath     0.236224\n",
              "BsmtUnfSF        0.221985\n",
              "BedroomAbvGr     0.209043\n",
              "ScreenPorch      0.121208\n",
              "PoolArea         0.069798\n",
              "MoSold           0.057330\n",
              "3SsnPorch        0.054900\n",
              "BsmtFinSF2       0.004832\n",
              "BsmtHalfBath    -0.005149\n",
              "MiscVal         -0.020021\n",
              "OverallCond     -0.036868\n",
              "YrSold          -0.037263\n",
              "LowQualFinSF    -0.037963\n",
              "MSSubClass      -0.073959\n",
              "KitchenAbvGr    -0.147548\n",
              "EnclosedPorch   -0.149050\n",
              "Name: SalePrice, dtype: float64"
            ]
          },
          "metadata": {},
          "execution_count": 498
        }
      ],
      "source": [
        "cor.SalePrice"
      ]
    },
    {
      "cell_type": "markdown",
      "metadata": {
        "_uuid": "f03326abdf136153dfe6a98b949bd631d245f7fb",
        "id": "xFtauN_c_32R"
      },
      "source": [
        "#### INFERENCES--\n",
        "Features Having Correlation > 0.5 are significantly important than others although there are some features which does not come under these observations like YearBuilt, Area etc...\n"
      ]
    },
    {
      "cell_type": "markdown",
      "source": [
        "Checking the Correlation map of Features Having Correlation > 0.5"
      ],
      "metadata": {
        "id": "wOBzOP6dC6GY"
      }
    },
    {
      "cell_type": "code",
      "execution_count": 499,
      "metadata": {
        "_uuid": "49701df68af095c56881ba4174e3c1f90e28f508",
        "id": "-syFY9b2x8Lk",
        "outputId": "1079db45-1b06-4d16-9163-0899778940ac",
        "colab": {
          "base_uri": "https://localhost:8080/",
          "height": 927
        }
      },
      "outputs": [
        {
          "output_type": "execute_result",
          "data": {
            "text/plain": [
              "<matplotlib.axes._subplots.AxesSubplot at 0x7f001af684d0>"
            ]
          },
          "metadata": {},
          "execution_count": 499
        },
        {
          "output_type": "display_data",
          "data": {
            "text/plain": [
              "<Figure size 1080x1080 with 2 Axes>"
            ],
            "image/png": "[encoded data removed]"
          },
          "metadata": {}
        }
      ],
      "source": [
        "cor_mat= df[['SalePrice','OverallQual','GrLivArea','GarageCars','GarageArea','TotalBsmtSF','1stFlrSF','FullBath','YearBuilt','YearRemodAdd','GarageYrBlt','TotRmsAbvGrd']].corr()\n",
        "mask = np.array(cor_mat)\n",
        "mask[np.tril_indices_from(mask)] = False\n",
        "fig=plt.gcf()\n",
        "fig.set_size_inches(15,15)\n",
        "sns.heatmap(data=cor_mat,mask=mask,square=True,annot=True,cbar=True)\n",
        "\n",
        "# some inference section."
      ]
    },
    {
      "cell_type": "markdown",
      "metadata": {
        "_uuid": "5657caa45c1fe5be6ae0fbad2aa138696df1ad96",
        "id": "fw-6lK9fbPmV"
      },
      "source": [
        "## 2.6 ) Univariate Analysis"
      ]
    },
    {
      "cell_type": "markdown",
      "metadata": {
        "_uuid": "08ad35f97d0a944ca6374dd2f33beefcab91e662",
        "id": "wXOaDLt4_32S"
      },
      "source": [
        "In this section the univariate analysis is performed for the numeric Features and categorical features that has correlation of more than 0.5 with SalePrice.\n"
      ]
    },
    {
      "cell_type": "markdown",
      "metadata": {
        "_uuid": "d74aaaf0a07f7e8e928f94f5718ec59fad3f0a57",
        "id": "PCCHJ6Et_32S"
      },
      "source": [
        "#### NUMERIC FEATURES (GrlivArea,GarageArea,TotalBsmtSF,1stFlrSF)"
      ]
    },
    {
      "cell_type": "code",
      "execution_count": 500,
      "metadata": {
        "_uuid": "ef7889b886ad93a3398e609c3efdf315ade8fc3c",
        "id": "yvgAULu33MK7"
      },
      "outputs": [],
      "source": [
        "def plot_num(feature):\n",
        "    fig,axes=plt.subplots(1,2)\n",
        "    sns.boxplot(data=df,x=feature,ax=axes[0])\n",
        "    sns.distplot(a=df[feature],ax=axes[1],color='#ff4125')\n",
        "    fig.set_size_inches(15,5)"
      ]
    },
    {
      "cell_type": "code",
      "execution_count": 501,
      "metadata": {
        "_uuid": "93ea4044587ce64a2101a752136ce553b580b0d1",
        "id": "644x257a3ib2",
        "outputId": "f9385a96-e7e1-4e3b-9fef-dd61211ca50f",
        "colab": {
          "base_uri": "https://localhost:8080/",
          "height": 410
        }
      },
      "outputs": [
        {
          "output_type": "stream",
          "name": "stderr",
          "text": [
            "/usr/local/lib/python3.7/dist-packages/seaborn/distributions.py:2619: FutureWarning: `distplot` is a deprecated function and will be removed in a future version. Please adapt your code to use either `displot` (a figure-level function with similar flexibility) or `histplot` (an axes-level function for histograms).\n",
            "  warnings.warn(msg, FutureWarning)\n"
          ]
        },
        {
          "output_type": "display_data",
          "data": {
            "text/plain": [
              "<Figure size 1080x360 with 2 Axes>"
            ],
            "image/png": "[encoded data removed]"
          },
          "metadata": {}
        }
      ],
      "source": [
        "plot_num('GrLivArea')"
      ]
    },
    {
      "cell_type": "code",
      "execution_count": 502,
      "metadata": {
        "_uuid": "872fa0472467eb781e194ad4ca71e0b338370f39",
        "id": "gARg_gB_3k6M",
        "outputId": "36494394-7f28-4809-fc4c-3bac29de96c3",
        "colab": {
          "base_uri": "https://localhost:8080/",
          "height": 410
        }
      },
      "outputs": [
        {
          "output_type": "stream",
          "name": "stderr",
          "text": [
            "/usr/local/lib/python3.7/dist-packages/seaborn/distributions.py:2619: FutureWarning: `distplot` is a deprecated function and will be removed in a future version. Please adapt your code to use either `displot` (a figure-level function with similar flexibility) or `histplot` (an axes-level function for histograms).\n",
            "  warnings.warn(msg, FutureWarning)\n"
          ]
        },
        {
          "output_type": "display_data",
          "data": {
            "text/plain": [
              "<Figure size 1080x360 with 2 Axes>"
            ],
            "image/png": "[encoded data removed]"
          },
          "metadata": {}
        }
      ],
      "source": [
        "plot_num('GarageArea')"
      ]
    },
    {
      "cell_type": "code",
      "execution_count": 503,
      "metadata": {
        "_uuid": "8fc1b228a2b1f520a08919cafc8b4f550b82c230",
        "id": "zlbLPUvq4PQE",
        "outputId": "29b5912d-fde0-4ce2-e8b1-92d9b1f5f2af",
        "colab": {
          "base_uri": "https://localhost:8080/",
          "height": 410
        }
      },
      "outputs": [
        {
          "output_type": "stream",
          "name": "stderr",
          "text": [
            "/usr/local/lib/python3.7/dist-packages/seaborn/distributions.py:2619: FutureWarning: `distplot` is a deprecated function and will be removed in a future version. Please adapt your code to use either `displot` (a figure-level function with similar flexibility) or `histplot` (an axes-level function for histograms).\n",
            "  warnings.warn(msg, FutureWarning)\n"
          ]
        },
        {
          "output_type": "display_data",
          "data": {
            "text/plain": [
              "<Figure size 1080x360 with 2 Axes>"
            ],
            "image/png": "[encoded data removed]"
          },
          "metadata": {}
        }
      ],
      "source": [
        "plot_num('TotalBsmtSF') "
      ]
    },
    {
      "cell_type": "code",
      "source": [
        "plot_num('1stFlrSF')"
      ],
      "metadata": {
        "colab": {
          "base_uri": "https://localhost:8080/",
          "height": 410
        },
        "id": "t19LhHG3EE-A",
        "outputId": "3226d209-2b7b-47a2-fcd2-386ba7693bab"
      },
      "execution_count": 504,
      "outputs": [
        {
          "output_type": "stream",
          "name": "stderr",
          "text": [
            "/usr/local/lib/python3.7/dist-packages/seaborn/distributions.py:2619: FutureWarning: `distplot` is a deprecated function and will be removed in a future version. Please adapt your code to use either `displot` (a figure-level function with similar flexibility) or `histplot` (an axes-level function for histograms).\n",
            "  warnings.warn(msg, FutureWarning)\n"
          ]
        },
        {
          "output_type": "display_data",
          "data": {
            "text/plain": [
              "<Figure size 1080x360 with 2 Axes>"
            ],
            "image/png": "[encoded data removed]"
          },
          "metadata": {}
        }
      ]
    },
    {
      "cell_type": "markdown",
      "metadata": {
        "_uuid": "697ab496c69e9f74e365358b36097caefebabb80",
        "id": "8lgOYK-B_32T"
      },
      "source": [
        "#### All the features are right skewed. We can therefore take 'log transform' of the features after the treatment of Missing Values "
      ]
    },
    {
      "cell_type": "markdown",
      "metadata": {
        "_uuid": "583b3bed2d49332ccf340260028959b7dfad6526",
        "id": "11EsI2gg_32U"
      },
      "source": [
        "#### CATEGORICAL FEATURES"
      ]
    },
    {
      "cell_type": "code",
      "execution_count": 505,
      "metadata": {
        "_uuid": "2943424a50e07c8214d95d7288acad4a15373444",
        "id": "w2JJvTFk7hAW"
      },
      "outputs": [],
      "source": [
        "def plot_cat(feature):\n",
        "  sns.countplot(data=df,x=feature)\n",
        "  ax=sns.countplot(data=df,x=feature)"
      ]
    },
    {
      "cell_type": "code",
      "execution_count": 506,
      "metadata": {
        "_uuid": "84c254b4fc1622f4170b9cd048173a0fe7a72300",
        "id": "f9lvMcEn9MGR",
        "outputId": "8ac642d5-3f53-411a-ede1-78dab297a2a4",
        "colab": {
          "base_uri": "https://localhost:8080/",
          "height": 301
        }
      },
      "outputs": [
        {
          "output_type": "display_data",
          "data": {
            "text/plain": [
              "<Figure size 432x288 with 1 Axes>"
            ],
            "image/png": "[encoded data removed]"
          },
          "metadata": {}
        }
      ],
      "source": [
        "plot_cat('OverallQual')"
      ]
    },
    {
      "cell_type": "markdown",
      "metadata": {
        "_uuid": "5f3a23820f7659a0da3f1ace34c9f7bc139d2be0",
        "id": "M9RfY4AE_32U"
      },
      "source": [
        "Most of the houses has quality greater than 5 so most of the houses are generally above average in quality"
      ]
    },
    {
      "cell_type": "code",
      "execution_count": 507,
      "metadata": {
        "_uuid": "06b707b93bbfd1f8e2270729c39c51b1c4690ec0",
        "id": "Hnvc1R9a9O6w",
        "outputId": "fa4e71cf-c978-425e-83bc-80b3f3eaa1d9",
        "colab": {
          "base_uri": "https://localhost:8080/",
          "height": 303
        }
      },
      "outputs": [
        {
          "output_type": "display_data",
          "data": {
            "text/plain": [
              "<Figure size 432x288 with 1 Axes>"
            ],
            "image/png": "[encoded data removed]"
          },
          "metadata": {}
        }
      ],
      "source": [
        "plot_cat('FullBath')"
      ]
    },
    {
      "cell_type": "markdown",
      "source": [
        "Most of the houses have more than 1 Full Bath\n"
      ],
      "metadata": {
        "id": "VGR6Q2ZdGXA7"
      }
    },
    {
      "cell_type": "code",
      "execution_count": 508,
      "metadata": {
        "_uuid": "9639f81e330f269e6a44b6c33d38c47e7d7f21f2",
        "id": "4MMOaHh_DnCV",
        "outputId": "8df5d197-3709-451d-c8ca-13e268798ce4",
        "colab": {
          "base_uri": "https://localhost:8080/",
          "height": 301
        }
      },
      "outputs": [
        {
          "output_type": "display_data",
          "data": {
            "text/plain": [
              "<Figure size 432x288 with 1 Axes>"
            ],
            "image/png": "[encoded data removed]"
          },
          "metadata": {}
        }
      ],
      "source": [
        "plot_cat('TotRmsAbvGrd')"
      ]
    },
    {
      "cell_type": "markdown",
      "source": [
        "Most of the Houses have more than 5 Rooms above ground Floor"
      ],
      "metadata": {
        "id": "1NlQE2QoGdE0"
      }
    },
    {
      "cell_type": "code",
      "source": [
        "plot_cat('GarageCars')"
      ],
      "metadata": {
        "colab": {
          "base_uri": "https://localhost:8080/",
          "height": 301
        },
        "id": "viBV091BGxIF",
        "outputId": "ddc66817-d1cf-41b5-b162-dd4f287476b3"
      },
      "execution_count": 509,
      "outputs": [
        {
          "output_type": "display_data",
          "data": {
            "text/plain": [
              "<Figure size 432x288 with 1 Axes>"
            ],
            "image/png": "[encoded data removed]"
          },
          "metadata": {}
        }
      ]
    },
    {
      "cell_type": "markdown",
      "metadata": {
        "_uuid": "f996588441684c9837607971daa7abacd52612cd",
        "id": "E5PRfSVBFLb_"
      },
      "source": [
        "## 2.7 ) Bivariate Analysis"
      ]
    },
    {
      "cell_type": "markdown",
      "metadata": {
        "_uuid": "758efcb2501350c67e8b9e1f81a3e72073395a6c",
        "id": "w4rE3R1VaxRr"
      },
      "source": [
        "In this section the Bivariate Analysis have been done.Most of the Outliers are treated in this section itself"
      ]
    },
    {
      "cell_type": "markdown",
      "metadata": {
        "_uuid": "894b1d488fa5128fbafbeaae435406098d0f57e8",
        "id": "CD16DfD7_32W"
      },
      "source": [
        "#### NUMERIC FEATURES"
      ]
    },
    {
      "cell_type": "code",
      "execution_count": 510,
      "metadata": {
        "_uuid": "e8c6de274505ca40ac069878efa8d2506ccea0d4",
        "id": "0nu1lW4TOeUP",
        "outputId": "4d9b9f30-e707-4360-ffae-c19a66cb06fc",
        "colab": {
          "base_uri": "https://localhost:8080/",
          "height": 301
        }
      },
      "outputs": [
        {
          "output_type": "display_data",
          "data": {
            "text/plain": [
              "<Figure size 432x288 with 1 Axes>"
            ],
            "image/png": "[encoded data removed]"
          },
          "metadata": {}
        }
      ],
      "source": [
        "fig, ax = plt.subplots()\n",
        "ax.scatter(x = df['GrLivArea'], y = df['SalePrice'])\n",
        "plt.ylabel('SalePrice')\n",
        "plt.xlabel('GrLivArea')\n",
        "plt.show()"
      ]
    },
    {
      "cell_type": "markdown",
      "metadata": {
        "_uuid": "e4d2bcf38a5c11c77998a6a7ee563fba337adb6c",
        "id": "cam66QCY_32X"
      },
      "source": [
        "Removing the two Outliers lying on the right middle"
      ]
    },
    {
      "cell_type": "code",
      "execution_count": 511,
      "metadata": {
        "_uuid": "7a51231a67364d069f11be8154f17f9664152549",
        "id": "iXz5EF3SOtXD"
      },
      "outputs": [],
      "source": [
        "df = df.drop(df[(df['GrLivArea']>4000) & (df['SalePrice']<13)].index)"
      ]
    },
    {
      "cell_type": "code",
      "execution_count": 512,
      "metadata": {
        "_uuid": "7da3ba1702816ad563c2e9ec56ea3ccffc14517e",
        "id": "eRNHHRAEQNsR",
        "outputId": "9f0e3d16-518c-43ee-89ae-f1ec7dcf2da5",
        "colab": {
          "base_uri": "https://localhost:8080/",
          "height": 301
        }
      },
      "outputs": [
        {
          "output_type": "display_data",
          "data": {
            "text/plain": [
              "<Figure size 432x288 with 1 Axes>"
            ],
            "image/png": "[encoded data removed]"
          },
          "metadata": {}
        }
      ],
      "source": [
        "fig, ax = plt.subplots()\n",
        "ax.scatter(x =(df['GarageArea']), y = df['SalePrice'])\n",
        "plt.ylabel('SalePrice')\n",
        "plt.xlabel('GarageArea')\n",
        "plt.show()"
      ]
    },
    {
      "cell_type": "markdown",
      "source": [
        "Removing Outliers that is GarageArea>1200"
      ],
      "metadata": {
        "id": "78-Kr3LmHw-K"
      }
    },
    {
      "cell_type": "code",
      "source": [
        "df = df.drop(df[(df['GarageArea']>1200)].index)"
      ],
      "metadata": {
        "id": "NM69quezHpbJ"
      },
      "execution_count": 513,
      "outputs": []
    },
    {
      "cell_type": "code",
      "execution_count": 514,
      "metadata": {
        "_uuid": "8ea4c670bf2c73034260d20403f5b1966ff9024a",
        "id": "vb0EHQcvQa9i",
        "outputId": "cfd356ca-2b7e-46d9-b873-5ee95402e4a4",
        "colab": {
          "base_uri": "https://localhost:8080/",
          "height": 301
        }
      },
      "outputs": [
        {
          "output_type": "display_data",
          "data": {
            "text/plain": [
              "<Figure size 432x288 with 1 Axes>"
            ],
            "image/png": "[encoded data removed]"
          },
          "metadata": {}
        }
      ],
      "source": [
        "fig, ax = plt.subplots()\n",
        "ax.scatter(x =(df['TotalBsmtSF']), y = df['SalePrice'])\n",
        "plt.ylabel('SalePrice')\n",
        "plt.xlabel('TotalBsmtSF')\n",
        "plt.show()  "
      ]
    },
    {
      "cell_type": "markdown",
      "source": [
        "Removing Outliers that is TotalBsmtSF>3000"
      ],
      "metadata": {
        "id": "Amxt1aLIIBo8"
      }
    },
    {
      "cell_type": "code",
      "source": [
        "df = df.drop(df[(df['GarageArea']>3000)].index)"
      ],
      "metadata": {
        "id": "tRiw3r8uIHIq"
      },
      "execution_count": 515,
      "outputs": []
    },
    {
      "cell_type": "markdown",
      "metadata": {
        "_uuid": "818b76257578740524b3ad214345e4d613f1da4c",
        "id": "B6RmKMy3aYjC"
      },
      "source": [
        "#### CATEGORICAL FEATURES"
      ]
    },
    {
      "cell_type": "code",
      "execution_count": 516,
      "metadata": {
        "_uuid": "5cda223fd843480ccb929353af01ed49ca0c8ec7",
        "id": "uVoxXD4qbkwg",
        "outputId": "da04ef53-1bec-4c98-b959-0da9a7a7f38e",
        "colab": {
          "base_uri": "https://localhost:8080/",
          "height": 472
        }
      },
      "outputs": [
        {
          "output_type": "stream",
          "name": "stderr",
          "text": [
            "/usr/local/lib/python3.7/dist-packages/seaborn/categorical.py:3717: UserWarning: The `factorplot` function has been renamed to `catplot`. The original name will be removed in a future release. Please update your code. Note that the default `kind` in `factorplot` (`'point'`) has changed `'strip'` in `catplot`.\n",
            "  warnings.warn(msg)\n",
            "/usr/local/lib/python3.7/dist-packages/seaborn/categorical.py:3723: UserWarning: The `size` parameter has been renamed to `height`; please update your code.\n",
            "  warnings.warn(msg, UserWarning)\n"
          ]
        },
        {
          "output_type": "execute_result",
          "data": {
            "text/plain": [
              "<seaborn.axisgrid.FacetGrid at 0x7f0010fe5c10>"
            ]
          },
          "metadata": {},
          "execution_count": 516
        },
        {
          "output_type": "display_data",
          "data": {
            "text/plain": [
              "<Figure size 540x360 with 1 Axes>"
            ],
            "image/png": "[encoded data removed]"
          },
          "metadata": {}
        }
      ],
      "source": [
        "sns.factorplot(data=df,x='OverallQual',y='SalePrice',kind='box',size=5,aspect=1.5)"
      ]
    },
    {
      "cell_type": "markdown",
      "metadata": {
        "_uuid": "0dd421bc3b36259a10954fefe66c350b094eea35",
        "id": "1LLh16AO_32Z"
      },
      "source": [
        "The SalePrice increases with the overall quality."
      ]
    },
    {
      "cell_type": "code",
      "execution_count": 517,
      "metadata": {
        "_uuid": "84a3341247dfb1aed27949fba1ecd04d89e57790",
        "id": "r07wSkIqb6qm",
        "outputId": "1bb0b792-6e7b-44e8-a779-d3830879865e",
        "colab": {
          "base_uri": "https://localhost:8080/",
          "height": 472
        }
      },
      "outputs": [
        {
          "output_type": "stream",
          "name": "stderr",
          "text": [
            "/usr/local/lib/python3.7/dist-packages/seaborn/categorical.py:3717: UserWarning: The `factorplot` function has been renamed to `catplot`. The original name will be removed in a future release. Please update your code. Note that the default `kind` in `factorplot` (`'point'`) has changed `'strip'` in `catplot`.\n",
            "  warnings.warn(msg)\n",
            "/usr/local/lib/python3.7/dist-packages/seaborn/categorical.py:3723: UserWarning: The `size` parameter has been renamed to `height`; please update your code.\n",
            "  warnings.warn(msg, UserWarning)\n"
          ]
        },
        {
          "output_type": "execute_result",
          "data": {
            "text/plain": [
              "<seaborn.axisgrid.FacetGrid at 0x7f0011263d90>"
            ]
          },
          "metadata": {},
          "execution_count": 517
        },
        {
          "output_type": "display_data",
          "data": {
            "text/plain": [
              "<Figure size 540x360 with 1 Axes>"
            ],
            "image/png": "[encoded data removed]"
          },
          "metadata": {}
        }
      ],
      "source": [
        "sns.factorplot(data=df,x='GarageCars',y='SalePrice',kind='box',size=5,aspect=1.5)"
      ]
    },
    {
      "cell_type": "code",
      "execution_count": 518,
      "metadata": {
        "_uuid": "eeb74fef8f61fa303049d0ed8a01c0b4aba731f0",
        "id": "1UQLMSfoccUa",
        "outputId": "01360bb9-2373-4228-e47d-69bd6a17c08f",
        "colab": {
          "base_uri": "https://localhost:8080/",
          "height": 472
        }
      },
      "outputs": [
        {
          "output_type": "stream",
          "name": "stderr",
          "text": [
            "/usr/local/lib/python3.7/dist-packages/seaborn/categorical.py:3717: UserWarning: The `factorplot` function has been renamed to `catplot`. The original name will be removed in a future release. Please update your code. Note that the default `kind` in `factorplot` (`'point'`) has changed `'strip'` in `catplot`.\n",
            "  warnings.warn(msg)\n",
            "/usr/local/lib/python3.7/dist-packages/seaborn/categorical.py:3723: UserWarning: The `size` parameter has been renamed to `height`; please update your code.\n",
            "  warnings.warn(msg, UserWarning)\n"
          ]
        },
        {
          "output_type": "execute_result",
          "data": {
            "text/plain": [
              "<seaborn.axisgrid.FacetGrid at 0x7f0010ff3610>"
            ]
          },
          "metadata": {},
          "execution_count": 518
        },
        {
          "output_type": "display_data",
          "data": {
            "text/plain": [
              "<Figure size 540x360 with 1 Axes>"
            ],
            "image/png": "[encoded data removed]"
          },
          "metadata": {}
        }
      ],
      "source": [
        "sns.factorplot(data=df,x='TotRmsAbvGrd',y='SalePrice',kind='bar',size=5,aspect=1.5)"
      ]
    },
    {
      "cell_type": "markdown",
      "metadata": {
        "_uuid": "46f7f5741f5aa1707a6299f3001faf697830cbe0",
        "id": "B3midIVVNiwC"
      },
      "source": [
        "<a id=\"content3\"></a>\n",
        "## 3 ) Missing Values Treatment"
      ]
    },
    {
      "cell_type": "code",
      "execution_count": 519,
      "metadata": {
        "_uuid": "ecf7e7ffe2d0761a1784f2ff036ba7f86442c751",
        "id": "D9qTYDqW4vTN",
        "outputId": "71bd6e86-3eb3-4004-b9c2-d4c46268d50e",
        "colab": {
          "base_uri": "https://localhost:8080/"
        }
      },
      "outputs": [
        {
          "output_type": "execute_result",
          "data": {
            "text/plain": [
              "PoolQC          2909\n",
              "MiscFeature     2814\n",
              "Alley           2721\n",
              "Fence           2348\n",
              "Id              1459\n",
              "FireplaceQu     1420\n",
              "LotFrontage      486\n",
              "GarageCond       159\n",
              "GarageFinish     159\n",
              "GarageQual       159\n",
              "GarageYrBlt      159\n",
              "GarageType       157\n",
              "BsmtExposure      82\n",
              "BsmtCond          82\n",
              "BsmtQual          81\n",
              "BsmtFinType2      80\n",
              "BsmtFinType1      79\n",
              "MasVnrType        24\n",
              "MasVnrArea        23\n",
              "MSZoning           4\n",
              "BsmtFullBath       2\n",
              "BsmtHalfBath       2\n",
              "Functional         2\n",
              "Utilities          2\n",
              "GarageArea         1\n",
              "GarageCars         1\n",
              "TotalBsmtSF        1\n",
              "KitchenQual        1\n",
              "Electrical         1\n",
              "BsmtUnfSF          1\n",
              "BsmtFinSF2         1\n",
              "BsmtFinSF1         1\n",
              "Exterior2nd        1\n",
              "Exterior1st        1\n",
              "SaleType           1\n",
              "dtype: int64"
            ]
          },
          "metadata": {},
          "execution_count": 519
        }
      ],
      "source": [
        "nan_all_data = (dat.isnull().sum())\n",
        "nan_all_data= nan_all_data.drop(nan_all_data[nan_all_data== 0].index).sort_values(ascending=False)\n",
        "nan_all_data"
      ]
    },
    {
      "cell_type": "markdown",
      "source": [
        "Dropping the top 5 Features because most of the data are missing from them and it makes no sense to add that into our prediction model."
      ],
      "metadata": {
        "id": "9ZjhT6JXJzaZ"
      }
    },
    {
      "cell_type": "code",
      "execution_count": 520,
      "metadata": {
        "_uuid": "70b85d4ee64e0aa64130ee1d5f99ef596a6624de",
        "id": "Y8uiHcDnVsFy"
      },
      "outputs": [],
      "source": [
        "dat.drop(['PoolQC','MiscFeature','Alley','Fence','Id','FireplaceQu'],axis=1,inplace=True)\n",
        "test.drop(['PoolQC','MiscFeature','Alley','Fence','FireplaceQu'],axis=1,inplace=True)\n",
        "df.drop(['PoolQC','MiscFeature','Alley','Fence','FireplaceQu'],axis=1,inplace=True)"
      ]
    },
    {
      "cell_type": "code",
      "execution_count": 521,
      "metadata": {
        "_uuid": "a969ace59b043a085935a9f49d7f5042fbe93e74",
        "id": "_9FkZamQeLYs",
        "outputId": "f9f95f35-0c35-493a-f1c5-ee26dd39e6b9",
        "colab": {
          "base_uri": "https://localhost:8080/"
        }
      },
      "outputs": [
        {
          "output_type": "stream",
          "name": "stdout",
          "text": [
            "The corelation of the LotFrontage with Saleprice :  0.3745234289345955\n"
          ]
        }
      ],
      "source": [
        "cr=df.corr()\n",
        "print(\"The corelation of the LotFrontage with Saleprice : \" , cr.loc['LotFrontage','SalePrice'])"
      ]
    },
    {
      "cell_type": "code",
      "execution_count": 522,
      "metadata": {
        "_uuid": "eacffac67f960042b1bf54edce1bf964ab5b3c34",
        "id": "GrM9SeT_eV51"
      },
      "outputs": [],
      "source": [
        "dat['LotFrontage'].fillna(np.mean(dat['LotFrontage']),inplace=True)"
      ]
    },
    {
      "cell_type": "markdown",
      "source": [
        "Features like Garagequal,Garagecond,Garagefinish are important therefore we will create a new category for the missing values if its categorical or else fill 0."
      ],
      "metadata": {
        "id": "1j-h4RaPTmzT"
      }
    },
    {
      "cell_type": "markdown",
      "source": [
        "Garage Properties:"
      ],
      "metadata": {
        "id": "rg_KcX9DVBm-"
      }
    },
    {
      "cell_type": "code",
      "execution_count": 523,
      "metadata": {
        "_uuid": "f45752ff4b70d6fb1f7a9360ef33554e34513d7d",
        "id": "HVTiAhW0fdUD"
      },
      "outputs": [],
      "source": [
        "for col in ('GarageYrBlt','GarageArea','GarageCars'):\n",
        "  dat[col].fillna(0,inplace=True)\n",
        "\n",
        "for col in ('GarageQual','GarageFinish','GarageCond','GarageType'):\n",
        "  dat[col].fillna('None',inplace=True) "
      ]
    },
    {
      "cell_type": "markdown",
      "source": [
        "BasementProperties:\n"
      ],
      "metadata": {
        "id": "5X9UD3moVEV7"
      }
    },
    {
      "cell_type": "code",
      "execution_count": 524,
      "metadata": {
        "_uuid": "e6fec292343a882f280f4c911960ef4bbf1e6240",
        "id": "5FVm7T-TJcOp"
      },
      "outputs": [],
      "source": [
        "for col in ('BsmtFinSF1', 'BsmtFinSF2', 'BsmtUnfSF','TotalBsmtSF', 'BsmtFullBath', 'BsmtHalfBath'):\n",
        "  dat[col].fillna(0,inplace=True)\n",
        "    \n",
        "for col in ('BsmtQual', 'BsmtCond', 'BsmtExposure', 'BsmtFinType1', 'BsmtFinType2'):\n",
        "  dat[col].fillna('None',inplace=True)\n",
        "\n"
      ]
    },
    {
      "cell_type": "code",
      "execution_count": 525,
      "metadata": {
        "_uuid": "2c2af2fb54c9298db6975568a8b4cf1fb73eefe8",
        "id": "9kVtbvQ9fDI-"
      },
      "outputs": [],
      "source": [
        "dat['MasVnrArea'].fillna(0,inplace=True)\n",
        "dat['MasVnrType'].fillna('None',inplace=True)"
      ]
    },
    {
      "cell_type": "markdown",
      "source": [
        "Here nan does not mean no so I will with the most common one ie the mode."
      ],
      "metadata": {
        "id": "c9Rjus_2VcCX"
      }
    },
    {
      "cell_type": "code",
      "execution_count": 526,
      "metadata": {
        "_uuid": "76542b40795ba9a8bc8c1d012279d0051c919dd9",
        "id": "TGcPNw3eh0oM"
      },
      "outputs": [],
      "source": [
        "dat['MSZoning'].fillna(dat['MSZoning'].mode()[0],inplace=True)"
      ]
    },
    {
      "cell_type": "code",
      "source": [
        "train['Utilities'].unique()"
      ],
      "metadata": {
        "colab": {
          "base_uri": "https://localhost:8080/"
        },
        "id": "-AW89EQ-VxNg",
        "outputId": "69932547-5f0c-494c-b780-567c93356e5d"
      },
      "execution_count": 527,
      "outputs": [
        {
          "output_type": "execute_result",
          "data": {
            "text/plain": [
              "array(['AllPub', 'NoSeWa'], dtype=object)"
            ]
          },
          "metadata": {},
          "execution_count": 527
        }
      ]
    },
    {
      "cell_type": "code",
      "source": [
        "test['Utilities'].unique()"
      ],
      "metadata": {
        "colab": {
          "base_uri": "https://localhost:8080/"
        },
        "id": "ROUloCkjV1Ye",
        "outputId": "4c7758a7-5b98-4de2-f03a-cc404f6c122b"
      },
      "execution_count": 528,
      "outputs": [
        {
          "output_type": "execute_result",
          "data": {
            "text/plain": [
              "array(['AllPub', nan], dtype=object)"
            ]
          },
          "metadata": {},
          "execution_count": 528
        }
      ]
    },
    {
      "cell_type": "markdown",
      "source": [
        "Test Has only 1 categories so there is no use for us to include Utilities in the prediction model so dropping the Utilities."
      ],
      "metadata": {
        "id": "Z4a7cpHWV_Kv"
      }
    },
    {
      "cell_type": "code",
      "execution_count": 529,
      "metadata": {
        "_uuid": "3b8e0aa08dfb8458501da6210da7161373a7ae7c",
        "id": "HTRIvsuSqAgw"
      },
      "outputs": [],
      "source": [
        "dat.drop(['Utilities'],axis=1,inplace=True)"
      ]
    },
    {
      "cell_type": "code",
      "execution_count": 530,
      "metadata": {
        "_uuid": "fbedd807e1c4f622da5ed03ea7df60b60a19df8d",
        "id": "CGfbRZL8rMeL"
      },
      "outputs": [],
      "source": [
        "for col in ['Functional','SaleType','KitchenQual','Exterior2nd','Exterior1st','Electrical']:\n",
        "  dat[col].fillna(dat[col].mode()[0],inplace=True)"
      ]
    },
    {
      "cell_type": "markdown",
      "metadata": {
        "_uuid": "ba514bda4d20b3f112faade1999f227e531e0b3a",
        "id": "HKoObvia_32g"
      },
      "source": [
        "checking if any null value still remains."
      ]
    },
    {
      "cell_type": "code",
      "execution_count": 531,
      "metadata": {
        "_uuid": "e1ff655694d7491bbddc2a4b2aa8dc50b4107a8e",
        "id": "9bgxDFPXtAKx",
        "outputId": "2be06ae1-4a90-4ad9-d7d7-19d0ab57f06d",
        "colab": {
          "base_uri": "https://localhost:8080/"
        }
      },
      "outputs": [
        {
          "output_type": "execute_result",
          "data": {
            "text/plain": [
              "Series([], dtype: int64)"
            ]
          },
          "metadata": {},
          "execution_count": 531
        }
      ],
      "source": [
        "nan_all_data = (dat.isnull().sum())\n",
        "nan_all_data= nan_all_data.drop(nan_all_data[nan_all_data== 0].index).sort_values(ascending=False)\n",
        "nan_all_data"
      ]
    },
    {
      "cell_type": "markdown",
      "source": [
        "No Null value remains"
      ],
      "metadata": {
        "id": "wXzdWjaFWsFL"
      }
    },
    {
      "cell_type": "markdown",
      "metadata": {
        "_uuid": "c5165aa27f636f5fe5bc3ec13bd8e0aedf6fb923",
        "id": "WXtK0a6v_32h"
      },
      "source": [
        "<a id=\"content4\"></a>\n",
        "## 4 ) Handling Skewness"
      ]
    },
    {
      "cell_type": "markdown",
      "metadata": {
        "_uuid": "feb3d9c3a1f0aac59b5fc35cad9ffc9ce10c6325",
        "id": "3ZjAsCpe_32h"
      },
      "source": [
        "Like Mentioned before now we have finished the missing value we will log transform the values that are skewed "
      ]
    },
    {
      "cell_type": "code",
      "execution_count": 532,
      "metadata": {
        "_uuid": "a72c4df18f969747648b36374e055fb13c2a4b30",
        "id": "UTq-0hDytkOB"
      },
      "outputs": [],
      "source": [
        "#log transform skewed numeric features:\n",
        "numeric_feats = dat.dtypes[dat.dtypes != \"object\"].index\n",
        "\n",
        "skewed_feats = train[numeric_feats].apply(lambda x: skew(x.dropna())) #compute skewness\n",
        "skewed_feats = skewed_feats[skewed_feats > 0.50]"
      ]
    },
    {
      "cell_type": "code",
      "source": [
        "skewed_feats"
      ],
      "metadata": {
        "colab": {
          "base_uri": "https://localhost:8080/"
        },
        "id": "ntgRGbtzX55G",
        "outputId": "fa9fa66b-5c83-4f99-ae9d-0d301eb94295"
      },
      "execution_count": 533,
      "outputs": [
        {
          "output_type": "execute_result",
          "data": {
            "text/plain": [
              "MSSubClass        1.406210\n",
              "LotFrontage       2.160866\n",
              "LotArea          12.195142\n",
              "OverallCond       0.692355\n",
              "MasVnrArea        2.666326\n",
              "BsmtFinSF1        1.683771\n",
              "BsmtFinSF2        4.250888\n",
              "BsmtUnfSF         0.919323\n",
              "TotalBsmtSF       1.522688\n",
              "1stFlrSF          1.375342\n",
              "2ndFlrSF          0.812194\n",
              "LowQualFinSF      9.002080\n",
              "GrLivArea         1.365156\n",
              "BsmtFullBath      0.595454\n",
              "BsmtHalfBath      4.099186\n",
              "HalfBath          0.675203\n",
              "KitchenAbvGr      4.483784\n",
              "TotRmsAbvGrd      0.675646\n",
              "Fireplaces        0.648898\n",
              "WoodDeckSF        1.539792\n",
              "OpenPorchSF       2.361912\n",
              "EnclosedPorch     3.086696\n",
              "3SsnPorch        10.293752\n",
              "ScreenPorch       4.117977\n",
              "PoolArea         14.813135\n",
              "MiscVal          24.451640\n",
              "dtype: float64"
            ]
          },
          "metadata": {},
          "execution_count": 533
        }
      ]
    },
    {
      "cell_type": "code",
      "execution_count": 534,
      "metadata": {
        "_uuid": "076823eac43269683f318f05a532998f07948465",
        "id": "Qsuj9fFa_32i"
      },
      "outputs": [],
      "source": [
        "skewed_feats = skewed_feats.index\n",
        "dat[skewed_feats] = np.log1p(dat[skewed_feats])"
      ]
    },
    {
      "cell_type": "markdown",
      "metadata": {
        "_uuid": "d60bda46c5320fae186cbf903921a2ff87c35074",
        "id": "lhUHq1vH_32i"
      },
      "source": [
        "<a id=\"content5\"></a>\n",
        "## 5 ) Prepare the Data"
      ]
    },
    {
      "cell_type": "markdown",
      "metadata": {
        "_uuid": "479a9ee569dbb9df2c39a778dc430a8b1ea2e25c",
        "id": "8iqtOjji_32i"
      },
      "source": [
        "## 5.1 ) LabelEncode the Categorical Features"
      ]
    },
    {
      "cell_type": "code",
      "execution_count": 535,
      "metadata": {
        "_uuid": "312389634b0670d37cc3713d8460959ed6441630",
        "id": "wXsWJvV1wFih"
      },
      "outputs": [],
      "source": [
        "for col in dat.columns:\n",
        "    if(dat[col].dtype == 'object'):\n",
        "      le=LabelEncoder()\n",
        "      dat[col]=le.fit_transform(dat[col])"
      ]
    },
    {
      "cell_type": "markdown",
      "metadata": {
        "_uuid": "4c80e36bb26ef306243b2fd2d185ee8ba876d5ed",
        "id": "JrhA-D2Z_32j"
      },
      "source": [
        "## 5.2 ) Splitting into Training and Validation Sets"
      ]
    },
    {
      "cell_type": "code",
      "execution_count": 536,
      "metadata": {
        "_uuid": "f74e9522e62edd161a7e6454bf8c228e0ef2cd6f",
        "id": "vQvA2psvuIxs"
      },
      "outputs": [],
      "source": [
        "train=dat.loc[:(df.shape)[0]+2,:]\n",
        "test=dat.loc[(df.shape)[0]+2:,:]"
      ]
    },
    {
      "cell_type": "code",
      "execution_count": 537,
      "metadata": {
        "_uuid": "498023c0be50cbcab456bfe829b4b5d16896f323",
        "id": "BmYWTpiIudCF",
        "outputId": "1015a6a0-a866-4487-e144-db852754e97c",
        "colab": {
          "base_uri": "https://localhost:8080/"
        }
      },
      "outputs": [
        {
          "output_type": "stream",
          "name": "stderr",
          "text": [
            "/usr/local/lib/python3.7/dist-packages/ipykernel_launcher.py:1: SettingWithCopyWarning: \n",
            "A value is trying to be set on a copy of a slice from a DataFrame.\n",
            "Try using .loc[row_indexer,col_indexer] = value instead\n",
            "\n",
            "See the caveats in the documentation: https://pandas.pydata.org/pandas-docs/stable/user_guide/indexing.html#returning-a-view-versus-a-copy\n",
            "  \"\"\"Entry point for launching an IPython kernel.\n"
          ]
        }
      ],
      "source": [
        "train['SalePrice']=df['SalePrice']"
      ]
    },
    {
      "cell_type": "code",
      "source": [
        "train['SalePrice'].isna().sum()"
      ],
      "metadata": {
        "colab": {
          "base_uri": "https://localhost:8080/"
        },
        "id": "Zsv87wV3Y9Ww",
        "outputId": "1836276f-9a2f-4b4a-e1be-aab212d3c871"
      },
      "execution_count": 538,
      "outputs": [
        {
          "output_type": "execute_result",
          "data": {
            "text/plain": [
              "6"
            ]
          },
          "metadata": {},
          "execution_count": 538
        }
      ]
    },
    {
      "cell_type": "code",
      "source": [
        "train['SalePrice'].fillna(np.mean(train['SalePrice']),inplace=True)\n",
        "train.shape"
      ],
      "metadata": {
        "colab": {
          "base_uri": "https://localhost:8080/"
        },
        "id": "Hdq0-Vx8Y8AO",
        "outputId": "83dde904-9bf8-43d4-c921-3bf6628d7bd5"
      },
      "execution_count": 539,
      "outputs": [
        {
          "output_type": "stream",
          "name": "stderr",
          "text": [
            "/usr/local/lib/python3.7/dist-packages/pandas/core/generic.py:6392: SettingWithCopyWarning: \n",
            "A value is trying to be set on a copy of a slice from a DataFrame\n",
            "\n",
            "See the caveats in the documentation: https://pandas.pydata.org/pandas-docs/stable/user_guide/indexing.html#returning-a-view-versus-a-copy\n",
            "  return self._update_inplace(result)\n"
          ]
        },
        {
          "output_type": "execute_result",
          "data": {
            "text/plain": [
              "(1457, 74)"
            ]
          },
          "metadata": {},
          "execution_count": 539
        }
      ]
    },
    {
      "cell_type": "code",
      "execution_count": 540,
      "metadata": {
        "_uuid": "def82a6baf6ce194c02c3e5956e28af81852dd67",
        "id": "IzfFpt4TvNhP",
        "outputId": "3e133fcd-399c-4ff5-a35b-a00ff67d7ce9",
        "colab": {
          "base_uri": "https://localhost:8080/"
        }
      },
      "outputs": [
        {
          "output_type": "stream",
          "name": "stdout",
          "text": [
            "(1457, 74)\n",
            "(1463, 73)\n"
          ]
        }
      ],
      "source": [
        "print(train.shape)\n",
        "print(test.shape)"
      ]
    },
    {
      "cell_type": "code",
      "execution_count": 541,
      "metadata": {
        "_uuid": "e4e66c811fa201617bc95116deb7172c9afb5e92",
        "id": "9nbaJ_0PvV_Z"
      },
      "outputs": [],
      "source": [
        "x_train,x_test,y_train,y_test=train_test_split(train.drop(['SalePrice'],axis=1),train['SalePrice'],test_size=0.20,random_state=42)"
      ]
    },
    {
      "cell_type": "markdown",
      "metadata": {
        "_uuid": "197c3170e216d8b11706fcca233189b7d3aac72a",
        "id": "AIVgRiw7_32n"
      },
      "source": [
        "<a id=\"content6\"></a>\n",
        "## 6 ) Regression Models"
      ]
    },
    {
      "cell_type": "markdown",
      "metadata": {
        "_uuid": "f51822af54321c643beed1fbe7c538bba463563c",
        "id": "Kb8ywpgo_32q"
      },
      "source": [
        "#### GRADIENT BOOSTING"
      ]
    },
    {
      "cell_type": "code",
      "execution_count": 542,
      "metadata": {
        "_uuid": "2fab514d917340d537eba886ed3d7d394bd25208",
        "id": "Ui-TWe7dBGS1",
        "outputId": "fed8a851-295e-4677-fe45-51d2f275defc",
        "colab": {
          "base_uri": "https://localhost:8080/"
        }
      },
      "outputs": [
        {
          "output_type": "stream",
          "name": "stdout",
          "text": [
            "0.12761953670126727\n"
          ]
        }
      ],
      "source": [
        "reg_gb=GradientBoostingRegressor(n_estimators=2000,learning_rate=0.05,max_depth=3,min_samples_split=10,max_features='sqrt',subsample=0.75 ,loss='huber')\n",
        "reg_gb.fit(x_train,y_train)\n",
        "pred=reg_gb.predict(x_test)\n",
        "print(np.sqrt(mean_squared_error(y_test,pred)))"
      ]
    },
    {
      "cell_type": "markdown",
      "metadata": {
        "_uuid": "e841d23995587b72e9eddc0206b016fb715feace",
        "id": "0BjFy4ij_32r"
      },
      "source": [
        "#### XGBoost"
      ]
    },
    {
      "cell_type": "code",
      "execution_count": 543,
      "metadata": {
        "_uuid": "0ea75f225380c2d7ba15993273aff081a9fea9ff",
        "id": "MLpTvMXC9Xsf",
        "outputId": "7b1017f9-ca30-4c62-ac65-439897d6b815",
        "colab": {
          "base_uri": "https://localhost:8080/"
        }
      },
      "outputs": [
        {
          "output_type": "stream",
          "name": "stdout",
          "text": [
            "0.13505267142859387\n"
          ]
        }
      ],
      "source": [
        "model_xgb = xgb.XGBRegressor(colsample_bytree=0.4603, gamma=0.0468, \n",
        "                             learning_rate=0.05, max_depth=3, \n",
        "                             min_child_weight=1.7817, n_estimators=2200,\n",
        "                             reg_alpha=0.4640, reg_lambda=0.8571,\n",
        "                             subsample=0.5213, silent=1,\n",
        "                             random_state =7, nthread = -1)\n",
        "model_xgb.fit(x_train,y_train)\n",
        "pred=model_xgb.predict(x_test)\n",
        "print(np.sqrt(mean_squared_error(y_test,pred)))"
      ]
    },
    {
      "cell_type": "markdown",
      "source": [
        "There is not much difference between the two but since the Gradient boosting performs better than XGBoost we will use the one with Gradient Boosting."
      ],
      "metadata": {
        "id": "Jel-7tOiZjmE"
      }
    },
    {
      "cell_type": "code",
      "execution_count": 544,
      "metadata": {
        "_uuid": "db7ce015cbb8273ef4cb39160e7f1c837c21273b",
        "id": "VFZMAR5gvw4p",
        "outputId": "c9cc4684-a944-44a3-f058-f80cb9f86027",
        "colab": {
          "base_uri": "https://localhost:8080/"
        }
      },
      "outputs": [
        {
          "output_type": "execute_result",
          "data": {
            "text/plain": [
              "1463"
            ]
          },
          "metadata": {},
          "execution_count": 544
        }
      ],
      "source": [
        "pred=reg_gb.predict(test)\n",
        "pred_act=np.exp(pred)\n",
        "pred_act=pred_act-1\n",
        "len(pred_act)"
      ]
    },
    {
      "cell_type": "code",
      "source": [
        "test.shape"
      ],
      "metadata": {
        "colab": {
          "base_uri": "https://localhost:8080/"
        },
        "id": "Yg28BBBsaDmi",
        "outputId": "f2983c91-c664-474c-9c33-340bfaba5622"
      },
      "execution_count": 545,
      "outputs": [
        {
          "output_type": "execute_result",
          "data": {
            "text/plain": [
              "(1463, 73)"
            ]
          },
          "metadata": {},
          "execution_count": 545
        }
      ]
    },
    {
      "cell_type": "code",
      "execution_count": 546,
      "metadata": {
        "_uuid": "efc1406eba2a50593e2c4a0a19daba2032102dfe",
        "id": "2dIptx4g3Kbq"
      },
      "outputs": [],
      "source": [
        "test_id=[]\n",
        "for i in range(1461,2924):\n",
        "    test_id.append(i)\n",
        "d={'Id':test_id,'SalePrice':pred_act}\n",
        "ans_df=pd.DataFrame(d)"
      ]
    },
    {
      "cell_type": "code",
      "execution_count": 547,
      "metadata": {
        "_uuid": "c9201e2c59533dba1ec59dc5509116029d639fac",
        "id": "-1dCzHpc3PgO"
      },
      "outputs": [],
      "source": [
        "ans_df.to_csv('Prediction_Haarish Dharan.csv',index=False)"
      ]
    }
  ],
  "metadata": {
    "kernelspec": {
      "display_name": "Python 3",
      "language": "python",
      "name": "python3"
    },
    "language_info": {
      "codemirror_mode": {
        "name": "ipython",
        "version": 3
      },
      "file_extension": ".py",
      "mimetype": "text/x-python",
      "name": "python",
      "nbconvert_exporter": "python",
      "pygments_lexer": "ipython3",
      "version": "3.6.4"
    },
    "colab": {
      "name": "Internship Submission_Haarish Dharan.ipynb",
      "provenance": [],
      "collapsed_sections": [
        "RaaX6Qfv_32F",
        "lhUHq1vH_32i"
      ]
    }
  },
  "nbformat": 4,
  "nbformat_minor": 0
}